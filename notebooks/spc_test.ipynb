{
 "cells": [
  {
   "cell_type": "code",
   "execution_count": 8,
   "metadata": {
    "collapsed": false
   },
   "outputs": [],
   "source": [
    "%matplotlib inline\n",
    "import numpy as np\n",
    "import matplotlib.pyplot as plt\n",
    "import sys\n",
    "import os\n",
    "sys.path.append('..')\n",
    "import spc"
   ]
  },
  {
   "cell_type": "code",
   "execution_count": 9,
   "metadata": {
    "collapsed": false
   },
   "outputs": [
    {
     "name": "stdout",
     "output_type": "stream",
     "text": [
      "\u001b[0m\u001b[01;32m4d_map.spc\u001b[0m*                      \u001b[01;32mHENE25.SPC\u001b[0m*  \u001b[01;32mm_evenz.spc\u001b[0m*  \u001b[01;34mplots2\u001b[0m/       \u001b[01;34mtxt\u001b[0m/\r\n",
      "BC408_5mmHorizontal.spc          \u001b[01;32mHENE27.SPC\u001b[0m*  \u001b[01;32mm_ordz.spc\u001b[0m*   \u001b[01;34mplots3\u001b[0m/       \u001b[01;34mtxt2\u001b[0m/\r\n",
      "CAthickyellow_try4_17_ZSCAN.spc  \u001b[01;32mkry2.spc\u001b[0m*    \u001b[01;32mms.spc\u001b[0m*       \u001b[01;32mRAMAN.SPC\u001b[0m*    \u001b[01;34mtxt3\u001b[0m/\r\n",
      "CAthickyellow_try4_18.spc        \u001b[01;32mKRY3.SPC\u001b[0m*    \u001b[01;32mm_xyxy.spc\u001b[0m*   \u001b[01;32mRUBY18.SPC\u001b[0m*\r\n",
      "DERt3_1.spc                      \u001b[01;32mKRY4.SPC\u001b[0m*    \u001b[01;32mnir.spc\u001b[0m*      \u001b[01;32ms_evenx.spc\u001b[0m*\r\n",
      "\u001b[01;32mDOERNER.spc\u001b[0m*                     \u001b[01;32mKRY5.SPC\u001b[0m*    \u001b[01;32mNMR_FID.SPC\u001b[0m*  \u001b[01;32ms_xy.spc\u001b[0m*\r\n",
      "\u001b[01;32mFt-ir.spc\u001b[0m*                       \u001b[01;32mMERC.SPC\u001b[0m*    \u001b[01;32mNMR_SPC.SPC\u001b[0m*  \u001b[01;32mTS01.SPC\u001b[0m*\r\n"
     ]
    }
   ],
   "source": [
    "ls '../test_data/'"
   ]
  },
  {
   "cell_type": "code",
   "execution_count": 10,
   "metadata": {
    "collapsed": false,
    "scrolled": true
   },
   "outputs": [
    {
     "name": "stdout",
     "output_type": "stream",
     "text": [
      "gx-y(2)\n",
      "0\n",
      "float64\n"
     ]
    },
    {
     "data": {
      "image/png": "[encoded data removed]",
      "text/plain": [
       "<matplotlib.figure.Figure at 0x7f810f0171d0>"
      ]
     },
     "metadata": {},
     "output_type": "display_data"
    }
   ],
   "source": [
    "f = spc.File('../test_data/DOERNER.spc')\n",
    "g = f.plot()\n",
    "print(f.sub[0].subexp)\n",
    "print(f.sub[0].y.dtype)"
   ]
  },
  {
   "cell_type": "code",
   "execution_count": 21,
   "metadata": {
    "collapsed": false
   },
   "outputs": [
    {
     "name": "stdout",
     "output_type": "stream",
     "text": [
      "------------\n",
      "kry2.spc\n",
      "gx-y(1)\n",
      "Wavenumber (cm-1) (arb) Arbitrary\n",
      "------------\n",
      "MERC.SPC\n",
      "gx-y(1)\n",
      "Wavenumber (cm-1) (arb) Arbitrary\n",
      "------------\n",
      "m_evenz.spc\n",
      "gx-y(32)\n",
      "Nanometers (nm) Absorbance Minutes\n",
      "------------\n",
      "4d_map.spc\n",
      "gx-y(121)\n",
      "Wavenumber (cm-1) Log(1/R) Micrometers (um)\n",
      "------------\n",
      "Ft-ir.spc\n",
      "gx-y(1)\n",
      "Wavenumber (cm-1) Transmission Arbitrary\n",
      "------------\n",
      "s_evenx.spc\n",
      "gx-y(1)\n",
      "Wavenumber (cm-1) Absorbance Arbitrary\n",
      "------------\n",
      "RUBY18.SPC\n",
      "gx-y(1)\n",
      "Wavenumber (cm-1) (arb) Arbitrary\n",
      "------------\n",
      "TS01.SPC\n",
      "gx-y(1)\n",
      "Wavelength (nm) (arb) Arbitrary\n",
      "------------\n",
      "DERt3_1.spc\n",
      "x-y(1)\n",
      "Nanometers (nm) Counts Arbitrary\n",
      "------------\n",
      "m_xyxy.spc\n",
      "-xy(512)\n",
      "Mass (M/z) Abundance Minutes\n",
      "------------\n",
      "HENE27.SPC\n",
      "gx-y(1)\n",
      "Wavenumber (cm-1) (arb) Arbitrary\n",
      "------------\n",
      "CAthickyellow_try4_17_ZSCAN.spc\n",
      "x-y(31)\n",
      "Nanometers (nm) Counts Micrometers (um)\n",
      "------------\n",
      "HENE25.SPC\n",
      "gx-y(1)\n",
      "Wavenumber (cm-1) (arb) Arbitrary\n",
      "------------\n",
      "BC408_5mmHorizontal.spc\n",
      "x-y(1)\n",
      "Nanometers (nm) Counts Arbitrary\n",
      "------------\n",
      "CAthickyellow_try4_18.spc\n",
      "x-y(1)\n",
      "Nanometers (nm) Counts Arbitrary\n",
      "------------\n",
      "nir.spc\n",
      "gx-y(20)\n",
      "Nanometers (nm) Kubelka-Munk Arbitrary\n",
      "------------\n",
      "m_ordz.spc\n",
      "gx-y(11)\n",
      "Wavenumber (cm-1) Absorbance Arbitrary\n",
      "------------\n",
      "NMR_FID.SPC\n",
      "gx-y(1)\n",
      "Seconds  Arbitrary Intensity Arbitrary\n",
      "------------\n",
      "DOERNER.spc\n",
      "gx-y(2)\n",
      "Raman Shift (cm-1) Arbitrary Intensity Arbitrary\n",
      "------------\n",
      "s_xy.spc\n",
      "x-y(1)\n",
      "Minutes Arbitrary Intensity Arbitrary\n",
      "------------\n",
      "KRY4.SPC\n",
      "gx-y(1)\n",
      "Wavenumber (cm-1) (arb) Arbitrary\n",
      "------------\n",
      "ms.spc\n",
      "-xy(1)\n",
      "Mass (M/z) Abundance Arbitrary\n",
      "------------\n",
      "KRY3.SPC\n",
      "gx-y(1)\n",
      "Wavenumber (cm-1) (arb) Arbitrary\n",
      "------------\n",
      "RAMAN.SPC\n",
      "gx-y(1)\n",
      "Raman Shift (cm-1) Rmn Intensity Arbitrary\n",
      "------------\n",
      "KRY5.SPC\n",
      "gx-y(1)\n",
      "Wavenumber (cm-1) (arb) Arbitrary\n",
      "------------\n",
      "NMR_SPC.SPC\n",
      "gx-y(1)\n",
      "Parts per million (PPM) Arbitrary Intensity Arbitrary\n"
     ]
    }
   ],
   "source": [
    "from time import sleep\n",
    "pat = '../test_data/'\n",
    "for i in os.listdir(pat):\n",
    "    if i.lower().endswith('spc'):\n",
    "        print '------------'\n",
    "        print i\n",
    "        f = spc.File(pat+i)\n",
    "        print f.xlabel, f.ylabel, f.zlabel"
   ]
  },
  {
   "cell_type": "code",
   "execution_count": 22,
   "metadata": {
    "collapsed": false
   },
   "outputs": [
    {
     "name": "stdout",
     "output_type": "stream",
     "text": [
      "\n",
      "DEBUG INFO\n",
      "Flags:\n",
      "\n",
      "----\n",
      "\n",
      "Version: new LSB 1st\n",
      "Single file only\n",
      "Single set of y-values\n",
      "None\n"
     ]
    }
   ],
   "source": [
    "print f.debug_info()"
   ]
  },
  {
   "cell_type": "code",
   "execution_count": 23,
   "metadata": {
    "collapsed": false
   },
   "outputs": [
    {
     "name": "stdout",
     "output_type": "stream",
     "text": [
      "dat_fmt: gx-y\n",
      "fexp: 30\n",
      "fytype: 0\n",
      "fcatxt: \u0000\u0000\u0000\u0000\u0000\u0000\u0000\u0000\u0000\u0000\u0000\u0000\u0000\u0000\u0000\u0000\u0000\u0000\u0000\u0000\u0000\u0000\u0000\u0000\u0000\u0000\u0000\u0000\u0000\u0000\n",
      "fcmnt: 1D NMR Spectrum Example\u0000test  on 10mm  QNP probe         Ethyl Corp. D\u0000\u0000\u0000\u0000\u0000\u0000\u0000\u0000\u0000\u0000\u0000\u0000\u0000\u0000\u0000\u0000\u0000\u0000\u0000\u0000\u0000\u0000\u0000\u0000\u0000\u0000\u0000\u0000\u0000\u0000\u0000\u0000\u0000\u0000\u0000\u0000\u0000\u0000\u0000\u0000\u0000\u0000\u0000\u0000\u0000\u0000\u0000\u0000\u0000\u0000\u0000\u0000\u0000\u0000\u0000\u0000\u0000\u0000\u0000\u0000\n",
      "trandm: False\n",
      "fzinc: 0.0\n",
      "freserv: \u0000\u0000\u0000\u0000\u0000\u0000\u0000\u0000\u0000\u0000\u0000\u0000\u0000\u0000\u0000\u0000\u0000\u0000\u0000\u0000\u0000\u0000\u0000\u0000\u0000\u0000\u0000\u0000\u0000\u0000\u0000\u0000\u0000\u0000\u0000\u0000\u0000\u0000\u0000\u0000\u0000\u0000\u0000\u0000\u0000\u0000\u0000\u0000\u0000\u0000\u0000\u0000\u0000\u0000\u0000\u0000\u0000\u0000\u0000\u0000\u0000\u0000\u0000\u0000\u0000\u0000\u0000\u0000\u0000\u0000\u0000\u0000\u0000\u0000\u0000\u0000\u0000\u0000\u0000\u0000\u0000\u0000\u0000\u0000\u0000\u0000\u0000\u0000\u0000\u0000\u0000\u0000\u0000\u0000\u0000\u0000\u0000\u0000\u0000\u0000\u0000\u0000\u0000\u0000\u0000\u0000\u0000\u0000\u0000\u0000\u0000\u0000\u0000\u0000\u0000\u0000\u0000\u0000\u0000\u0000\u0000\u0000\u0000\u0000\u0000\u0000\u0000\u0000\u0000\u0000\u0000\u0000\u0000\u0000\u0000\u0000\u0000\u0000\u0000\u0000\u0000\u0000\u0000\u0000\u0000\u0000\u0000\u0000\u0000\u0000\u0000\u0000\u0000\u0000\u0000\u0000\u0000\u0000\u0000\u0000\u0000\u0000\u0000\u0000\u0000\u0000\u0000\u0000\u0000\u0000\u0000\u0000\u0000\u0000\u0000\u0000\u0000\u0000\u0000\u0000\u0000\u0000\u0000\u0000\u0000\u0000\u0000\n",
      "year: 1996\n",
      "cmnt: 1D NMR Spectrum Example test on 10mm QNP probe Ethyl Corp. D\n",
      "fprocs: \u0000\n",
      "tsprec: False\n",
      "fmods: 0\n",
      "fmethod: \u0000\u0000\u0000\u0000\u0000\u0000\u0000\u0000\u0000\u0000\u0000\u0000\u0000\u0000\u0000\u0000\u0000\u0000\u0000\u0000\u0000\u0000\u0000\u0000\u0000\u0000\u0000\u0000\u0000\u0000\u0000\u0000\u0000\u0000\u0000\u0000\u0000\u0000\u0000\u0000\u0000\u0000\u0000\u0000\u0000\u0000\u0000\u0000\n",
      "fsource: \u0000\u0000\u0000\u0000\u0000\u0000\u0000\u0000\u0000\n",
      "fwtype: \u0000\n",
      "fwinc: 0.0\n",
      "flevel: \u0000\n",
      "fpost: \u0000\n",
      "fspare: \u0000\u0000\u0000\u0000\u0000\u0000\u0000\u0000\u0000\u0000\u0000\u0000\u0000\u0000\u0000\u0000\u0000\u0000\u0000\u0000\u0000\u0000\u0000\u0000\u0000\u0000\u0000\u0000\u0000\u0000\u0000\u0000\n",
      "logspar: \u0000\u0000\u0000\u0000\u0000\u0000\u0000\u0000\u0000\u0000\u0000\u0000\u0000\u0000\u0000\u0000\u0000\u0000\u0000\u0000\u0000\u0000\u0000\u0000\u0000\u0000\u0000\u0000\u0000\u0000\u0000\u0000\u0000\u0000\u0000\u0000\u0000\u0000\u0000\u0000\u0000\u0000\u0000\u0000\n",
      "ftflg: \u0000\n",
      "tordrd: False\n",
      "logtxto: 131136\n",
      "flast: -11.5856776701\n",
      "flogoff: 131616\n",
      "fwplanes: 0\n",
      "exp_type: General SPC\n",
      "fpeakpt: 0\n",
      "spacing: -0.0076021661327\n",
      "zlabel: Arbitrary\n",
      "ylabel: Arbitrary Intensity\n",
      "fxtype: 10\n",
      "logsizm: 135168\n",
      "ffirst: 237.5145\n",
      "fversn: K\n",
      "log_other: ['\\x00']\n",
      "tcgram: False\n",
      "log_dict: {'FLTFREQ': '125000', 'DELAY': '.00002', 'DELTA_PPM': '11.5856776700697', 'DETMODE': 'SIM', 'PH1': '-203', 'PH0': '115.0158', 'SCANS': '2048', 'PHMOD': 'NORMAL', 'APOD': 'MATCH_EXP', 'ACQTIME': '.6537216', 'APODP(0)': '1', 'NUCFREQ': '100.61276100252', 'SW_HZ': '25062.656641604', 'PV1': '32767', 'PV0': '0', 'INSTRUM': 'drx400', 'FID': 'FALSE', 'NMREND': 'NMREND', 'DWELL': '.00001995', 'SW_PPM': '249.072037893362', 'SOLVENT': 'CDCl3', 'NUCLEUS': 'off'}\n",
      "txvals: False\n",
      "fres: \u0000\u0000\u0000\u0000\u0000\u0000\u0000\u0000\u0000\n",
      "month: 2\n",
      "logdsks: 0\n",
      "day: 20\n",
      "minute: 59\n",
      "sub: [<spc.sub.subFile instance at 0x7f810cebfcf8>]\n",
      "logbins: 131072\n",
      "talabs: False\n",
      "fexper: 0\n",
      "tmulti: False\n",
      "hour: 3\n",
      "fnsub: 1\n",
      "pr_versn: new LSB 1st\n",
      "fsampin: 0\n",
      "logsizd: 131482\n",
      "ffactor: 0.0\n",
      "txyxys: False\n",
      "length: 263098\n",
      "xlabel: Parts per million (PPM)\n",
      "fztype: 0\n",
      "fdate: 2093129979\n",
      "x: [ 237.5145      237.50689783  237.49929567 ...,  -11.57047334  -11.5780755\n",
      "  -11.58567767]\n",
      "log_content: ['INSTRUM=drx400', 'SOLVENT=CDCl3', 'NUCLEUS=off', 'DETMODE=SIM', 'NUCFREQ=100.61276100252', 'SW_HZ=25062.656641604', 'DWELL=.00001995', 'DELAY=.00002', 'ACQTIME=.6537216', 'SCANS=2048', 'FLTFREQ=125000', 'SW_PPM=249.072037893362', 'FID=FALSE', 'DELTA_PPM=11.5856776700697', 'APOD=MATCH_EXP', 'APODP(0)=1', 'PHMOD=NORMAL', 'PH0=115.0158', 'PH1=-203', 'PV0=0', 'PV1=32767', 'NMREND=NMREND', '\\x00']\n",
      "fnpts: 32768\n"
     ]
    }
   ],
   "source": [
    "#f.write_file('testout3.txt')\n",
    "for key in f.__dict__:\n",
    "    print \"%s: %s\" %(key , f.__dict__[key])"
   ]
  },
  {
   "cell_type": "code",
   "execution_count": null,
   "metadata": {
    "collapsed": true
   },
   "outputs": [],
   "source": []
  }
 ],
 "metadata": {
  "kernelspec": {
   "display_name": "Python 2",
   "language": "python",
   "name": "python2"
  },
  "language_info": {
   "codemirror_mode": {
    "name": "ipython",
    "version": 2
   },
   "file_extension": ".py",
   "mimetype": "text/x-python",
   "name": "python",
   "nbconvert_exporter": "python",
   "pygments_lexer": "ipython2",
   "version": "2.7.11"
  }
 },
 "nbformat": 4,
 "nbformat_minor": 0
}
